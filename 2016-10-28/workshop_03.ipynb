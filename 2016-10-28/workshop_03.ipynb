{
 "cells": [
  {
   "cell_type": "markdown",
   "metadata": {},
   "source": [
    "# L shaped stair"
   ]
  },
  {
   "cell_type": "markdown",
   "metadata": {},
   "source": [
    "### la funzione crea una scala \"L shaped\" secondo i parametri dx dy dz che indicano le dimensioni della scatola (box) in cui la scala deve rientrare"
   ]
  },
  {
   "cell_type": "markdown",
   "metadata": {},
   "source": [
    "### Esempio della scala da realizzare"
   ]
  },
  {
   "cell_type": "markdown",
   "metadata": {
    "collapsed": true
   },
   "source": [
    "<img src=\"L-shaped-stair.jpg\" style=\"float:left;margin: 10px\"><img src=\"L-shaped-stair2.jpg\">"
   ]
  },
  {
   "cell_type": "markdown",
   "metadata": {},
   "source": [
    "### Lista delle variabili significative del codice\n",
    "    dx,dy,dz: valori(float) della dimensione della scatola\n",
    "    yNumeroGradini: e' il numero di gradini che bisogna inserire nella rampa di scale\n",
    "    zNumeroGradini: e' il numero di gradini che ancora si possono inserire prima di arrivare a dz\n",
    "    dxGradino: indica la larghezza della rampa\n",
    "    dyGradino: indica la pedata (tread) della scala\n",
    "    dzGradino: indica di quanto bisogna alzare il successivo gradino(la meta' e' quindi all'incirca l'alzata (riser))\n",
    "    stairRampObjectList: lista contentente i valori per creare una rampa di scale\n",
    "    stair: la scala \"L shaped\" che è una lista contentente tuttu i valori per creare la struttura"
   ]
  },
  {
   "cell_type": "markdown",
   "metadata": {},
   "source": [
    "# Procedimento del metodo geometrico"
   ]
  },
  {
   "cell_type": "markdown",
   "metadata": {},
   "source": [
    "Sono utilizzate in un primo momento delle misure standard per la creazione di un singolo gradino descritte precedentemente che sono rispettivamente dxGradino = 1 dyGradino = 0.3 dzGradino = 0.4\n",
    "  \n",
    "Sono poi calcolati i numeri di gradini che possono effettivamente entrare all'interno del box di dimensione dx,dy,dz per poi andare a misurare lo spazio ancora rimasto nella scatola.\n",
    "Lo spazio viene aggiunto in modo proporzionato a ogni singolo gradino aumentandone quindi pedata e alzata ripettivamente per dx/dy e dz\n",
    "\n",
    "Viene così costruita la scala parametrizzata ai valori del box mantenendo valori di alzata e pedata realistici\n",
    "\n",
    "Per la crezione della scala sono utilizzate le funzioni MKPOL per i gradini e la funzione CUBOID per la creazione del piano per il passaggio da una rampa alla successiva\n"
   ]
  },
  {
   "cell_type": "markdown",
   "metadata": {},
   "source": [
    "# Codice"
   ]
  },
  {
   "cell_type": "code",
   "execution_count": null,
   "metadata": {
    "collapsed": true
   },
   "outputs": [],
   "source": [
    "from pyplasm import *\n",
    "import math\n",
    "\n",
    "def ggpl_l_shaped_stair(dx, dy, dz):\n",
    "\t\"\"\"\n",
    "\tggpl_l_shaped_stair crea una scala \"L shaped\" secondo i parametri dx dy dz che indicano le dimensioni della scatola in cui\n",
    "\tla scala deve rientrare\n",
    "\n",
    "\t@param dx,dy,dz: valori(float) della dimensione della scatola\n",
    "\t@return stair: la scala \"L shaped\"\n",
    "\t\"\"\"\n",
    "\n",
    "\tdef stairRamp(dx,dy,dz,stairRampObjectList,yNumeroGradini,zNumeroGradini,dxGradino,dyGradino,dzGradino):\n",
    "\t\t\"\"\"\n",
    "\t\tstairRamp crea una lista che contiene i valori per creare una rampa di scale\n",
    "\n",
    "\t\t@param dx,dy,dz: valori(float) della dimensione della scatola\n",
    "\t\t@param stairRampObjectList: e' la lista in cui si inseriranno i valori della rampa di scale\n",
    "\t\t@param yNumeroGradini: e' il numero di gradini che bisogna inserire nella rampa di scale\n",
    "\t\t@param zNumeroGradini: e' il numero di gradini che ancora si possono inserire prima di arrivare a dz\n",
    "\t\t@param dxGradino: indica la larghezza della rampa\n",
    "\t\t@param dyGradino: indica la pedata (tread) della scala\n",
    "\t\t@param dzGradino: indica di quanto bisogna alzare il successivo gradino(la meta' e' quindi all'incirca l'alzata (riser))\n",
    "\t\t@return stairRampObjectList: lista contentente i valori per creare una rampa di scale\n",
    "\t\t\"\"\"\n",
    "\t\txyGradino = MKPOL([[[0,0],[0,dzGradino],[dyGradino,dzGradino],[dyGradino,dzGradino/2],[0,0]],[[1,2,3,4,5]],1])\n",
    "\t\txyzGradino = PROD([QUOTE([dxGradino]),xyGradino])\n",
    "\n",
    "\t\tfor i in range(yNumeroGradini):\n",
    "\t\t\tstairRampObjectList.append(xyzGradino)\n",
    "\t\t\tzNumeroGradini = zNumeroGradini-1\n",
    "\t\t\t# se non ho spazio lungo l'asse z smetto di inserire gradini ritorno la rampa\n",
    "\t\t\tif zNumeroGradini<=0:\n",
    "\t\t\t\treturn stairRampObjectList\n",
    "\t\t\tstairRampObjectList.append(T([2,3])([dyGradino,dzGradino-0.2]))\t#attenzione il -0.2 e' in relazione al dxGradino in ggpl_l_shaped_stair che vale 0.4\n",
    "\t\tstairRampObjectList.append(CUBOID([dxGradino,dxGradino-dyGradino,dzGradino-0.2]))\n",
    "\t\tstairRampObjectList.append(T([2])([dxGradino-dyGradino]))\n",
    "\t\tstairRampObjectList.append(R([2,1])(PI/2))\n",
    "\t\tstairRampObjectList.append(T([2])([dxGradino]))\n",
    "\t\treturn stairRampObjectList\n",
    "\n",
    "\tstairRampObjectList = []\n",
    "\tstair = []\n",
    "\t# dimensioni di partenza per la creazione di un gradino che sono poi modificate per poter riempire in modo esatto la scatola\n",
    "\tdxGradino = 1\n",
    "\tdyGradino = 0.3\n",
    "\tdzGradino = 0.4\n",
    "\n",
    "\tbox = SKEL_1(CUBOID([dx,dy,dz]))\n",
    "\tstair.append(box)\n",
    "\t# crea il primo platform\n",
    "\tstairRampObjectList.append(CUBOID([dxGradino,dxGradino,dzGradino-0.2]))\n",
    "\tstairRampObjectList.append(T([2])([dxGradino]))\n",
    "\n",
    "\t# indica su quale coordinata si trova la rampa (latoX=0  ==> dy) (latoX=1  ==> dx)\n",
    "\tlatoX=0\n",
    "\tzNumeroGradiniNonIntero = (dz-(dzGradino/2))/(dzGradino/2)\n",
    "\tzNumeroGradini = (int)(math.floor(zNumeroGradiniNonIntero))\n",
    "\t# indica quanto spazio rimane per riempire la scatola inserendo le dimensioni di base di un gradino\n",
    "\tdzScarto = (dz-(zNumeroGradini*dzGradino+dzGradino/2))/zNumeroGradini\n",
    "\t# e' l'altezza corretta per riempire la scatola\n",
    "\tdzGradino = dzGradino + dzScarto + dzGradino/2\n",
    "\n",
    "\t# finche ho ancora spazio lungo dz inserisco nuove rampe\n",
    "\twhile zNumeroGradini>0:\n",
    "\t\tif latoX == 0:\n",
    "\t\t\tyNumeroGradiniNonIntero = (dy-dxGradino-dxGradino+dyGradino)/dyGradino\n",
    "\t\t\tyNumeroGradini = (int)(math.floor(yNumeroGradiniNonIntero))\n",
    "\t\t\tdyGradinoConScarto = (dy-dxGradino*2)/(yNumeroGradini-1)\n",
    "\t\t\tdyGradino = dyGradinoConScarto\n",
    "\t\t\tlatoX=latoX+1\n",
    "\t\telse:\n",
    "\t\t\tyNumeroGradiniNonIntero = (dx-dxGradino-dxGradino+dyGradino)/dyGradino\n",
    "\t\t\tyNumeroGradini = (int)(math.floor(yNumeroGradiniNonIntero))\n",
    "\t\t\tdyGradinoConScarto = (dx-dxGradino*2)/(yNumeroGradini-1)\n",
    "\t\t\tdyGradino = dyGradinoConScarto\n",
    "\t\t\tlatoX=latoX-1\n",
    "\t\tstairRampObjectList = stairRamp(dx,dy,dz,stairRampObjectList,yNumeroGradini,zNumeroGradini,dxGradino,dyGradino,dzGradino)\n",
    "\t\tzNumeroGradini = zNumeroGradini - yNumeroGradini\n",
    "\t\tfor el in stairRampObjectList:\n",
    "\t\t\tstair.append(el)\n",
    "\t\tstairRampObjectList = []\n",
    "\treturn stair\n",
    "\n",
    "VIEW(STRUCT(ggpl_l_shaped_stair(6.0,6.0,24.0)))"
   ]
  },
  {
   "cell_type": "markdown",
   "metadata": {},
   "source": [
    "# Esempio di esecuzione 1"
   ]
  },
  {
   "cell_type": "markdown",
   "metadata": {},
   "source": [
    "<img src=\"ggpl_l_shaped_stair(5.3,7.0,14.7).jpg\">"
   ]
  },
  {
   "cell_type": "markdown",
   "metadata": {},
   "source": [
    "# Esempio di esecuzione 2"
   ]
  },
  {
   "cell_type": "markdown",
   "metadata": {},
   "source": [
    "<img src=\"ggpl_l_shaped_stair(5.3,15.0,14.7).jpg\">"
   ]
  },
  {
   "cell_type": "markdown",
   "metadata": {},
   "source": [
    "# Esempio di esecuzione 3"
   ]
  },
  {
   "cell_type": "markdown",
   "metadata": {},
   "source": [
    "<img src=\"ggpl_l_shaped_stair(6.0,6.0,24.0).jpg\">"
   ]
  }
 ],
 "metadata": {
  "kernelspec": {
   "display_name": "Python 2",
   "language": "python",
   "name": "python2"
  },
  "language_info": {
   "codemirror_mode": {
    "name": "ipython",
    "version": 2
   },
   "file_extension": ".py",
   "mimetype": "text/x-python",
   "name": "python",
   "nbconvert_exporter": "python",
   "pygments_lexer": "ipython2",
   "version": "2.7.12"
  }
 },
 "nbformat": 4,
 "nbformat_minor": 1
}
