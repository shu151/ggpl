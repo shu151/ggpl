{
 "cells": [
  {
   "cell_type": "markdown",
   "metadata": {},
   "source": [
    "# School Furniture Workshop 05"
   ]
  },
  {
   "cell_type": "markdown",
   "metadata": {},
   "source": [
    "### Tipologie di attrezzature scolastiche che si possono creare"
   ]
  },
  {
   "cell_type": "markdown",
   "metadata": {},
   "source": [
    "<img src=\"deck.png\" style=\"float:left\" width=\"400\"]><img src=\"teach.jpg\" width=\"400\"]>"
   ]
  },
  {
   "cell_type": "markdown",
   "metadata": {},
   "source": [
    "<img src=\"closet.jpg\" style=\"float:left\" width=\"400\"]><img src=\"blackboard.jpg\" width=\"400\"]>"
   ]
  },
  {
   "cell_type": "markdown",
   "metadata": {},
   "source": [
    "## Creazione di una cattedra"
   ]
  },
  {
   "cell_type": "code",
   "execution_count": 1,
   "metadata": {
    "collapsed": false
   },
   "outputs": [
    {
     "name": "stdout",
     "output_type": "stream",
     "text": [
      "Evaluating fenvs.py..\n",
      "...fenvs.py imported in 0.00658930956369 seconds\n"
     ]
    }
   ],
   "source": [
    "from pyplasm import *\n",
    "import math\n",
    "def createTeachingPost(dx,dy,dz):\n",
    "\t\"\"\"\n",
    "\tla funzione crea una cattedra in base alle dimensioni in input\n",
    "\n",
    "\t@param dx: valore asse x\n",
    "\t@param dy: valore asse y\n",
    "\t@param dz: valore asse z\n",
    "\t@return closet: un modello HPC della cattedra\n",
    "\n",
    "\t\"\"\"\n",
    "\tteachingPost = []\n",
    "\n",
    "\t#box = SKEL_1(CUBOID([dx,dy,dz]))\n",
    "\t#teachingPost.append(box)\n",
    "\n",
    "\txPlane = QUOTE([dx])\n",
    "\tyPlane = QUOTE([dy])\n",
    "\txyPlane = PROD([xPlane, yPlane])\n",
    "\txyzPlane = PROD([xyPlane, QUOTE([dz/80.0])])\n",
    "\txyzPlane = (COLOR(Color4f([220/255.,165/255.,116/255.,1])))(xyzPlane)\n",
    "\tteachingPost.append(T([3])(dz-dz/80.0))\n",
    "\tteachingPost.append(xyzPlane)\n",
    "\n",
    "\tteachingPost.append(T([3])(-(dz-dz/80.0)))\n",
    "\n",
    "\txyBack = PROD([QUOTE([dx]), QUOTE([dy/80.0])])\n",
    "\txyzBack = PROD([xyBack, QUOTE([dz-dz/80.0])])\n",
    "\txyzBack = (COLOR(Color4f([220/255.,165/255.,116/255.,1])))(xyzBack)\n",
    "\tteachingPost.append(T([2])(dy/60.0))\n",
    "\tteachingPost.append(xyzBack)\n",
    "\n",
    "\tteachingPost.append(T([2])(dy/80.0))\n",
    "\n",
    "\txySide = PROD([QUOTE([dx/60.0]), QUOTE([dy-dy/60.0-dy/80.0])])\n",
    "\txyzSide = PROD([xySide, QUOTE([dz-dz/80.0])])\n",
    "\txyzSide = (COLOR(Color4f([220/255.,165/255.,116/255.,1])))(xyzSide)\n",
    "\tteachingPost.append(T([1])(dx/70.0))\n",
    "\tteachingPost.append(xyzSide)\n",
    "\tteachingPost.append(T([1])(dx-dx/60.0-(dx/70.0)*2))\n",
    "\tteachingPost.append(xyzSide)\n",
    "\n",
    "\tteachingPost.append(T([1])(-dx+dx/60.0*2+(dx/70.0)*2))\n",
    "\n",
    "\txyDrawers = PROD([QUOTE([dx/2.0]), QUOTE([dy/2.0])])\n",
    "\txyzDrawers = PROD([xyDrawers, QUOTE([dz/5.0])])\n",
    "\txyzDrawers = (COLOR(Color4f([110/255.,93/255.,64/255.,1])))(SKEL_2(xyzDrawers))\n",
    "\tteachingPost.append(T([3])(dz-dz/80.0-dz/5.0))\n",
    "\tteachingPost.append(T([2])(-dy/80.0-dy/60.0+dy-dy/2.0-dy/70.0))\n",
    "\tteachingPost.append(xyzDrawers)\n",
    "\n",
    "\tknob = SPHERE(dz/40.0)([100,100])\n",
    "\tknob = (COLOR(Color4f([220/255.,165/255.,116/255.,1])))(knob)\n",
    "\tteachingPost.append(T([3])(dz/5.0/2.0))\n",
    "\tteachingPost.append(T([2])(dy/2.0+dz/40.0))\n",
    "\tteachingPost.append(T([1])(dx/4.0))\n",
    "\tteachingPost.append(knob)\n",
    "\n",
    "\treturn STRUCT(teachingPost)"
   ]
  },
  {
   "cell_type": "markdown",
   "metadata": {},
   "source": [
    "### Esempio di cattedra"
   ]
  },
  {
   "cell_type": "code",
   "execution_count": 2,
   "metadata": {
    "collapsed": false
   },
   "outputs": [
    {
     "name": "stdout",
     "output_type": "stream",
     "text": [
      "Child 3\n"
     ]
    },
    {
     "data": {
      "text/plain": [
       "<pyplasm.xgepy.Hpc; proxy of <Swig Object of type 'std::shared_ptr< Hpc > *' at 0x000000000BD32FC0> >"
      ]
     },
     "execution_count": 2,
     "metadata": {},
     "output_type": "execute_result"
    }
   ],
   "source": [
    "VIEW(createTeachingPost(1.0,0.6,0.8))"
   ]
  },
  {
   "cell_type": "markdown",
   "metadata": {},
   "source": [
    "<img src=\"es1.jpg\" width=\"500\"]>"
   ]
  },
  {
   "cell_type": "markdown",
   "metadata": {},
   "source": [
    "## Creazione di un banco"
   ]
  },
  {
   "cell_type": "code",
   "execution_count": 3,
   "metadata": {
    "collapsed": true
   },
   "outputs": [],
   "source": [
    "def createDesk(dx, dy, dz):\n",
    "\t\"\"\"\n",
    "\tla funzione crea un tavolo in base alle dimensioni in input\n",
    "\n",
    "\t@param dx: valore asse x\n",
    "\t@param dy: valore asse y\n",
    "\t@param dz: valore asse z\n",
    "\t@return closet: un modello HPC del tavolo\n",
    "\n",
    "\t\"\"\"\n",
    "\tdesk = []\n",
    "\tbox = SKEL_1(CUBOID([5.0,5.0,3.5]))\n",
    "\n",
    "\tradius = dy/30.0\n",
    "\n",
    "\txPlane = QUOTE([dx])\n",
    "\tyPlane = QUOTE([dy])\n",
    "\txyPlane = PROD([xPlane, yPlane])\n",
    "\txyzPlane = PROD([xyPlane, QUOTE([0.01])])\n",
    "\n",
    "\tgamba = CYLINDER([radius,dz-0.01])(30)\n",
    "\n",
    "\tdesk.append(T([1])([radius*2]))\n",
    "\tdesk.append(T([2])([radius*2]))\n",
    "\n",
    "\tdesk.append(gamba)\n",
    "\tdesk.append(T([2])([dy-radius*4]))\n",
    "\n",
    "\tdesk.append(gamba)\n",
    "\tdesk.append(T([1])([dx-radius*4]))\n",
    "\n",
    "\tdesk.append(gamba)\n",
    "\tdesk.append(T([2])([-dy+radius*4]))\n",
    "\tdesk.append(gamba)\n",
    "\n",
    "\tdesk.append(T([1,2,3])([-dx+radius*2,-radius*2,dz-0.01]))\n",
    "\txyzBeam = (COLOR(Color4f([220/255.,165/255.,116/255.,1])))(xyzPlane)\n",
    "\tdesk.append(xyzBeam)\n",
    "\n",
    "\treturn desk"
   ]
  },
  {
   "cell_type": "markdown",
   "metadata": {},
   "source": [
    "### Esempio di un banco"
   ]
  },
  {
   "cell_type": "code",
   "execution_count": 4,
   "metadata": {
    "collapsed": false
   },
   "outputs": [
    {
     "data": {
      "text/plain": [
       "<pyplasm.xgepy.Hpc; proxy of <Swig Object of type 'std::shared_ptr< Hpc > *' at 0x000000000BD3CA80> >"
      ]
     },
     "execution_count": 4,
     "metadata": {},
     "output_type": "execute_result"
    }
   ],
   "source": [
    "VIEW(STRUCT(createDesk(1.0,0.5,0.6)))"
   ]
  },
  {
   "cell_type": "markdown",
   "metadata": {},
   "source": [
    "<img src=\"es2.jpg\" width=\"500\"]>"
   ]
  },
  {
   "cell_type": "markdown",
   "metadata": {},
   "source": [
    "## Creazione di una sedia"
   ]
  },
  {
   "cell_type": "code",
   "execution_count": 5,
   "metadata": {
    "collapsed": true
   },
   "outputs": [],
   "source": [
    "def createChair(dx, dy, dz):\n",
    "\t\"\"\"\n",
    "\tla funzione crea una sedia in base alle dimensioni in input\n",
    "\n",
    "\t@param dx: valore asse x\n",
    "\t@param dy: valore asse y\n",
    "\t@param dz: valore asse z\n",
    "\t@return closet: un modello HPC della sedia\n",
    "\n",
    "\t\"\"\"\n",
    "\n",
    "\tradius = dy/30.0\n",
    "\tchair = createDesk(dx,dy,dz/2)\n",
    "\tgamba = CYLINDER([radius,(dz/2)])(30)\n",
    "\n",
    "\tchair.append(T([3])([0.01]))\n",
    "\tchair.append(T([1])([radius*2]))\n",
    "\tchair.append(T([2])([radius*2]))\n",
    "\tchair.append(gamba)\n",
    "\tchair.append(T([1])([dx-radius*4]))\n",
    "\tchair.append(gamba)\n",
    "\t\n",
    "\txBeam = QUOTE([dx])\n",
    "\tyBeam = QUOTE([0.01])\n",
    "\txyBeam = PROD([xBeam, yBeam])\n",
    "\txyzBeam = PROD([xyBeam, QUOTE([dy/3+0.05])])\n",
    "\n",
    "\tchair.append(T([1,2,3])([-dx+radius*2,radius,0.13]))\n",
    "\txyzBeam = (COLOR(Color4f([220/255.,165/255.,116/255.,1])))(xyzBeam)\n",
    "\tchair.append(xyzBeam)\n",
    "\n",
    "\treturn chair"
   ]
  },
  {
   "cell_type": "markdown",
   "metadata": {},
   "source": [
    "### Esempio di una sedia"
   ]
  },
  {
   "cell_type": "code",
   "execution_count": 6,
   "metadata": {
    "collapsed": false
   },
   "outputs": [
    {
     "data": {
      "text/plain": [
       "<pyplasm.xgepy.Hpc; proxy of <Swig Object of type 'std::shared_ptr< Hpc > *' at 0x000000000BD45660> >"
      ]
     },
     "execution_count": 6,
     "metadata": {},
     "output_type": "execute_result"
    }
   ],
   "source": [
    "VIEW(STRUCT(createChair(0.45,0.4,0.7)))"
   ]
  },
  {
   "cell_type": "markdown",
   "metadata": {},
   "source": [
    "<img src=\"es3.jpg\" width=\"500\"]>"
   ]
  },
  {
   "cell_type": "markdown",
   "metadata": {},
   "source": [
    "## Creazione di un armadio"
   ]
  },
  {
   "cell_type": "code",
   "execution_count": 7,
   "metadata": {
    "collapsed": true
   },
   "outputs": [],
   "source": [
    "def createCloset(dx,dy,dz):\n",
    "\t\"\"\"\n",
    "\tla funzione crea un armadio in base alle dimensioni in input\n",
    "\n",
    "\t@param dx: valore asse x\n",
    "\t@param dy: valore asse y\n",
    "\t@param dz: valore asse z\n",
    "\t@return closet: un modello HPC dell'armardio\n",
    "\n",
    "\t\"\"\"\n",
    "\tcloset = []\n",
    "\t#box = SKEL_1(CUBOID([dx,dy,dz]))\n",
    "\t#closet.append(box)\n",
    "\txyPlane = PROD([QUOTE([dx]), QUOTE([dy])])\n",
    "\txyzPlane = PROD([xyPlane, QUOTE([dz/60.0])])\n",
    "\txyzPlane = (COLOR(Color4f([220/255.,165/255.,116/255.,1])))(xyzPlane)\n",
    "\n",
    "\tcloset.append(xyzPlane)\n",
    "\n",
    "\tcloset.append(T([3])(dz/60.0))\n",
    "\tcloset.append(T([2])(dy/60.0))\n",
    "\n",
    "\txyBack = PROD([QUOTE([dx]), QUOTE([dy/50.0])])\n",
    "\txyzBack = PROD([xyBack, QUOTE([dz-dz/60.0-dz/60.0])])\n",
    "\txyzBack = (COLOR(Color4f([220/255.,165/255.,116/255.,1])))(xyzBack)\n",
    "\tcloset.append(xyzBack)\n",
    "\n",
    "\txySide = PROD([QUOTE([dx/60.0]), QUOTE([dy-dy/60.0-dy/50.0])])\n",
    "\txyzSide = PROD([xySide, QUOTE([dz-dz/60.0-dz/60.0])])\n",
    "\txyzSide = (COLOR(Color4f([220/255.,165/255.,116/255.,1])))(xyzSide)\n",
    "\tcloset.append(T([2])(dy/50.0))\n",
    "\tcloset.append(xyzSide)\n",
    "\tcloset.append(T([1])(dx-dx/60.0))\n",
    "\tcloset.append(xyzSide)\n",
    "\tcloset.append(T([1])(-dx+dx/60.0))\n",
    "\tcloset.append(T([2])(-dy/50.0-dy/60.0))\n",
    "\tcloset.append(T([3])(dz-dz/60.0-dz/60.0))\n",
    "\tcloset.append(xyzPlane)\n",
    "\n",
    "\txyClosetDoor = PROD([QUOTE([(dx-dx/60.0*2)/2]), QUOTE([dy/50.0])])\n",
    "\txyzClosetDoor = PROD([xyClosetDoor, QUOTE([dz-dz/60.0-dz/60.0])])\n",
    "\txyzClosetDoor = (COLOR(Color4f([0/255.,0/255.,0/255.,1])))(xyzClosetDoor)\n",
    "\n",
    "\tcloset.append(T([1])(dx/60.0))\n",
    "\tcloset.append(T([3])(-dz+dz/60.0+dz/60.0))\n",
    "\tcloset.append(T([2])(dy-dy/50))\n",
    "\n",
    "\tknob = SPHERE(dz/70.0)([100,100])\n",
    "\tknob = (COLOR(Color4f([220/255.,165/255.,116/255.,1])))(knob)\n",
    "\n",
    "\tcloset.append(R([1,2])(PI/4)(xyzClosetDoor))\n",
    "\tcloset.append(T([1])((dx-dx/60.0*2)/2))\n",
    "\tcloset.append(xyzClosetDoor)\n",
    "\n",
    "\tcloset.append(T([1,2,3])([dx/20.0,dz/70.0,dz/2]))\n",
    "\tcloset.append(knob)\n",
    "\n",
    "\treturn STRUCT(closet)"
   ]
  },
  {
   "cell_type": "markdown",
   "metadata": {},
   "source": [
    "### Esempio di un armadio"
   ]
  },
  {
   "cell_type": "code",
   "execution_count": 8,
   "metadata": {
    "collapsed": false
   },
   "outputs": [
    {
     "name": "stdout",
     "output_type": "stream",
     "text": [
      "Child 3\n"
     ]
    },
    {
     "data": {
      "text/plain": [
       "<pyplasm.xgepy.Hpc; proxy of <Swig Object of type 'std::shared_ptr< Hpc > *' at 0x000000000B9161E0> >"
      ]
     },
     "execution_count": 8,
     "metadata": {},
     "output_type": "execute_result"
    }
   ],
   "source": [
    "VIEW(createCloset(1.0,0.6,1.5))"
   ]
  },
  {
   "cell_type": "markdown",
   "metadata": {},
   "source": [
    "<img src=\"es4.jpg\" width=\"500\"]>"
   ]
  },
  {
   "cell_type": "markdown",
   "metadata": {},
   "source": [
    "## Creazione di una lavagna"
   ]
  },
  {
   "cell_type": "code",
   "execution_count": 9,
   "metadata": {
    "collapsed": true
   },
   "outputs": [],
   "source": [
    "def createBlackboard(dx,dy,dz):\n",
    "\t\"\"\"\n",
    "\tla funzione crea una lavagna in base alle dimensioni in input\n",
    "\n",
    "\t@param dx: valore asse x\n",
    "\t@param dy: valore asse y\n",
    "\t@param dz: valore asse z\n",
    "\t@return closet: un modello HPC della lavagna\n",
    "\n",
    "\t\"\"\"\n",
    "\n",
    "\txyBase = PROD([QUOTE([dx/20.0]), QUOTE([dy])])\n",
    "\txyzBase = PROD([xyBase, QUOTE([dz/60.0])])\n",
    "\txyzBase = (COLOR(Color4f([220/255.,165/255.,116/255.,1])))(xyzBase)\n",
    "\n",
    "\t#blackboard = STRUCT([SKEL_1(CUBOID([dx,dy,dz])),xyzBase])\n",
    "\tblackboard = STRUCT([xyzBase])\n",
    "\tblackboard = STRUCT([blackboard,T([1])(dx-dx/20.0),xyzBase])\n",
    "\n",
    "\txyPillar = PROD([QUOTE([dx/20.0]), QUOTE([dy/7.0])])\n",
    "\txyzPillar = PROD([xyPillar, QUOTE([dz-dz/4.0])])\n",
    "\txyzPillar = (COLOR(Color4f([220/255.,165/255.,116/255.,1])))(xyzPillar)\n",
    "\n",
    "\tblackboard = STRUCT([blackboard,T([2])(dy/2.0-(dy/7.0)/2.0),T([3])(dz/60.0),xyzPillar,T([1])(dx-dx/20.0),xyzPillar])\n",
    "\n",
    "\txyBoard = PROD([QUOTE([dx-dx/20.0-dx/20.0-0.02]), QUOTE([dy/7])])\n",
    "\txyzBoard = PROD([xyBoard, QUOTE([dz/2.5])])\n",
    "\txyzBoard = (COLOR(Color4f([220/255.,165/255.,116/255.,1])))(xyzBoard)\n",
    "\txyBlack = PROD([QUOTE([dx-dx/20.0-dx/20.0-0.02-dx/20.0]), QUOTE([dy/7])])\n",
    "\txyzBlack = PROD([xyBlack, QUOTE([dz/2.5-dz/30.0])])\n",
    "\txyzBlack = (COLOR(Color4f([0/255.,0/255.,0/255.,1])))(xyzBlack)\n",
    "\txyzBlack = STRUCT([T([1])(dx/20.0/2),T([3])(dz/30.0/2),xyzBlack])\n",
    "\tdiff = (COLOR(Color4f([220/255.,165/255.,116/255.,1])))(DIFFERENCE([xyzBoard,xyzBlack]))\n",
    "\tblackboardPiece = STRUCT([diff,xyzBlack])\n",
    "\tblackboardPiece = R([2,3])(PI/4)(blackboardPiece)\n",
    "\n",
    "\tspostamento = dz/2.5*math.cos(PI/4.0)/2\n",
    "\n",
    "\tblackboard = STRUCT([blackboard,T([1])(dx/20.0+0.01),T([2])(dy/2.0-(dy/7.0)/2.0),T([3])(dz/60.0+dz-dz/4.0-dz/2.5),T([2])(spostamento),blackboardPiece])\n",
    "\n",
    "\txyBeam = PROD([QUOTE([dx-dx/20.0-dx/20.0]), QUOTE([dy/7])])\n",
    "\txyzBeam = PROD([xyBeam, QUOTE([dz/60.0])])\n",
    "\txyzBeam = (COLOR(Color4f([220/255.,165/255.,116/255.,1])))(xyzBeam)\n",
    "\n",
    "\tblackboard = STRUCT([blackboard,T([1])(dx/20.0),T([2])(dy/2.0-(dy/7.0)/2.0),T([3])(dz/60.0+dz-dz/4.0-dz/2.5-dz/60.0-dz/60.0),xyzBeam])\n",
    "\n",
    "\treturn blackboard"
   ]
  },
  {
   "cell_type": "markdown",
   "metadata": {},
   "source": [
    "### Esempio di una lavagna"
   ]
  },
  {
   "cell_type": "code",
   "execution_count": 10,
   "metadata": {
    "collapsed": false
   },
   "outputs": [
    {
     "data": {
      "text/plain": [
       "<pyplasm.xgepy.Hpc; proxy of <Swig Object of type 'std::shared_ptr< Hpc > *' at 0x000000000BD3CBA0> >"
      ]
     },
     "execution_count": 10,
     "metadata": {},
     "output_type": "execute_result"
    }
   ],
   "source": [
    "VIEW(createBlackboard(1.5,0.4,2.0))"
   ]
  },
  {
   "cell_type": "markdown",
   "metadata": {},
   "source": [
    "<img src=\"es5.jpg\" width=\"500\"]>"
   ]
  },
  {
   "cell_type": "markdown",
   "metadata": {},
   "source": [
    "## Creazione di una stanza"
   ]
  },
  {
   "cell_type": "code",
   "execution_count": 11,
   "metadata": {
    "collapsed": true
   },
   "outputs": [],
   "source": [
    "def createRoom(dx,dy,dz):\n",
    "\t\"\"\"\n",
    "\tla funzione crea una stanza all'interno dei valori in input\n",
    "\n",
    "\t@param dx: valore asse x\n",
    "\t@param dy: valore asse y\n",
    "\t@param dz: valore asse z\n",
    "\t@return closet: un modello HPC della stanza\n",
    "\n",
    "\t\"\"\"\n",
    "\n",
    "\tdesk = STRUCT(createDesk(1.0,0.5,0.6))\n",
    "\tchair = STRUCT(createChair(0.45,0.4,0.7))\n",
    "\tteachingPost = createTeachingPost(1.0,0.6,0.8)\n",
    "\tcloset = createCloset(1.0,0.6,1.5)\n",
    "\tblackboard = createBlackboard(1.5,0.4,2.0)\n",
    "\n",
    "\tbase = PROD([QUOTE([dx]), QUOTE([dy])])\n",
    "\tbase = (COLOR(Color4f([128/255.,128/255.,128/255.,1])))(base)\n",
    "\troom = STRUCT([base])\n",
    "\troom = STRUCT([room,T([1])(1.5),T([2])(1.5),desk,T([1])(1.5),desk,T([1])(1.5),desk,T([1])(1.5),desk,T([1])(1.5),desk])\n",
    "\troom = STRUCT([room,T([1])(1.5),T([2])(1.5),T([2])(-0.3),T([1])(0.275),chair,T([1])(1.5),chair,T([1])(1.5),chair,T([1])(1.5),chair,T([1])(1.5),chair])\n",
    "\troom = STRUCT([room,T([1])(1.5),T([2])(1.5),T([2])(1.5),desk,T([1])(1.5),desk,T([1])(1.5),desk,T([1])(1.5),desk,T([1])(1.5),desk])\n",
    "\troom = STRUCT([room,T([1])(1.5),T([2])(1.5),T([2])(1.5-0.3),T([1])(0.275),chair,T([1])(1.5),chair,T([1])(1.5),chair,T([1])(1.5),chair,T([1])(1.5),chair])\n",
    "\troom = STRUCT([room,T([1])(1.5),T([2])(1.5),T([2])(3),desk,T([1])(1.5),desk,T([1])(1.5),desk,T([1])(1.5),desk,T([1])(1.5),desk])\n",
    "\troom = STRUCT([room,T([1])(1.5),T([2])(1.5),T([2])(3-0.3),T([1])(0.275),chair,T([1])(1.5),chair,T([1])(1.5),chair,T([1])(1.5),chair,T([1])(1.5),chair])\n",
    "\n",
    "\troom = STRUCT([room,T([1])(4.5),T([2])(7),teachingPost])\n",
    "\troom = STRUCT([room,T([1])(5.2),T([2])(8),R([1,2])(PI)(chair)])\n",
    "\troom = STRUCT([room,T([1])(dx-1.3),closet])\n",
    "\troom = STRUCT([room,T([1])(2),T([2])(7),blackboard])\n",
    "\n",
    "\treturn room"
   ]
  },
  {
   "cell_type": "markdown",
   "metadata": {},
   "source": [
    "### Esempio di una stanza"
   ]
  },
  {
   "cell_type": "code",
   "execution_count": 12,
   "metadata": {
    "collapsed": false
   },
   "outputs": [
    {
     "name": "stdout",
     "output_type": "stream",
     "text": [
      "Child 3\n",
      "Child 3\n"
     ]
    },
    {
     "data": {
      "text/plain": [
       "<pyplasm.xgepy.Hpc; proxy of <Swig Object of type 'std::shared_ptr< Hpc > *' at 0x00000000050B2930> >"
      ]
     },
     "execution_count": 12,
     "metadata": {},
     "output_type": "execute_result"
    }
   ],
   "source": [
    "VIEW(createRoom(10,8.5,4))"
   ]
  },
  {
   "cell_type": "markdown",
   "metadata": {},
   "source": [
    "<img src=\"es6.jpg\" width=\"500\"]>"
   ]
  }
 ],
 "metadata": {
  "kernelspec": {
   "display_name": "Python 2",
   "language": "python",
   "name": "python2"
  },
  "language_info": {
   "codemirror_mode": {
    "name": "ipython",
    "version": 2
   },
   "file_extension": ".py",
   "mimetype": "text/x-python",
   "name": "python",
   "nbconvert_exporter": "python",
   "pygments_lexer": "ipython2",
   "version": "2.7.12"
  }
 },
 "nbformat": 4,
 "nbformat_minor": 1
}
