{
 "cells": [
  {
   "cell_type": "markdown",
   "metadata": {},
   "source": [
    "# House Modeling Workshop 08"
   ]
  },
  {
   "cell_type": "markdown",
   "metadata": {
    "collapsed": true
   },
   "source": [
    "### Esempio di designe"
   ]
  },
  {
   "cell_type": "markdown",
   "metadata": {},
   "source": [
    "<img src=\"plane.jpg\" width=\"700\">"
   ]
  },
  {
   "cell_type": "markdown",
   "metadata": {},
   "source": [
    "### Metodo Geometrico\n",
    "\n",
    "Per la creazione della struttura vengono utilizzati dei file svg creati con inkscape che vanno a identificare la posizione dei muri delle porte e delle finestre\n",
    "I file vengono convertiti in .line, per aprire porte e finestre in inkscape sono rappresentati come quadrati e si creano quindi facendo la differenza tramite pyplasm tra muri e porte/finestre"
   ]
  },
  {
   "cell_type": "code",
   "execution_count": null,
   "metadata": {
    "collapsed": true
   },
   "outputs": [],
   "source": [
    "from pyplasm import *\n",
    "import csv\n",
    "\n",
    "def ggpl_house():\n",
    "\t\"\"\"\n",
    "\tggpl_house restituisce un modello hpc di una casa a partire dalla letture dei file .lines\n",
    "\t@return home: modello hpc della struttura\n",
    "\t\"\"\"\n",
    "\n",
    "\t# .lines ogni riga ha due coppie di x/y che costituiscono un segmento\n",
    "\tverts = []\n",
    "\tcells = []\n",
    "\ti = 0\n",
    "\treader = csv.reader(open(\"lines/muri_esterni.lines\", 'rb'), delimiter=',')  \n",
    "\tfor row in reader:\n",
    "\t\tverts.append([float(row[0]), float(row[1])])\n",
    "\t\tverts.append([float(row[2]), float(row[3])])\n",
    "\t\ti+=2\n",
    "\t\tcells.append([i-1,i])\n",
    "\n",
    "\texternalWalls = MKPOL([verts,cells,None])\n",
    "\tfloor = SOLIDIFY(externalWalls)\n",
    "\tfloor = S([1,2,3])([.04,.04,.04])(floor)\n",
    "\texternalWalls = S([1,2,3])([.04,.04,.04])(externalWalls)\n",
    "\texternalWalls = OFFSET([.2,.2,4])(externalWalls)\n",
    "\theightWalls = SIZE([3])(externalWalls)[0]\n",
    "\tthicknessWalls = SIZE([2])(externalWalls)[0]\n",
    "\n",
    "\tverts = []\n",
    "\tcells = []\n",
    "\ti = 0\n",
    "\treader = csv.reader(open(\"lines/muri_interni.lines\", 'rb'), delimiter=',')  \n",
    "\tfor row in reader:\n",
    "\t\tverts.append([float(row[0]), float(row[1])])\n",
    "\t\tverts.append([float(row[2]), float(row[3])])\n",
    "\t\ti+=2\n",
    "\t\tcells.append([i-1,i])\n",
    "\n",
    "\tinternalWalls = MKPOL([verts,cells,None])\n",
    "\tinternalWalls = S([1,2,3])([.04,.04,.04])(internalWalls)\n",
    "\tinternalWalls = OFFSET([.2,.2,4])(internalWalls)\n",
    "\twalls = STRUCT([externalWalls, internalWalls])\n",
    "\n",
    "\tverts = []\n",
    "\tcells = []\n",
    "\ti = 0\n",
    "\treader = csv.reader(open(\"lines/porte.lines\", 'rb'), delimiter=',')  \n",
    "\tfor row in reader:\n",
    "\t\tverts.append([float(row[0]), float(row[1])])\n",
    "\t\tverts.append([float(row[2]), float(row[3])])\n",
    "\t\ti+=2\n",
    "\t\tcells.append([i-1,i])\n",
    "\n",
    "\tdoors = MKPOL([verts,cells,None])\n",
    "\tdoors = SOLIDIFY(doors)\n",
    "\tdoors = S([1,2,3])([.04,.04,.04])(doors)\n",
    "\tdoors = OFFSET([.2,.2,3])(doors)\n",
    "\twalls = DIFFERENCE([walls, doors])\n",
    "\n",
    "\n",
    "\tverts = []\n",
    "\tcells = []\n",
    "\ti = 0\n",
    "\treader = csv.reader(open(\"lines/finestre.lines\", 'rb'), delimiter=',')  \n",
    "\tfor row in reader:\n",
    "\t\tverts.append([float(row[0]), float(row[1])])\n",
    "\t\tverts.append([float(row[2]), float(row[3])])\n",
    "\t\ti+=2\n",
    "\t\tcells.append([i-1,i])\n",
    "\n",
    "\twindows = MKPOL([verts,cells,None])\n",
    "\twindows = SOLIDIFY(windows)\n",
    "\twindows = S([1,2,3])([.04,.04,.04])(windows)\n",
    "\twindows = OFFSET([.2,.2,2])(windows)\n",
    "\theightWindows = SIZE([3])(windows)[0]\n",
    "\twindows = T(3)((heightWalls-heightWindows)/2.)(windows)\n",
    "\twalls = DIFFERENCE([walls, windows])\n",
    "\n",
    "\tfloor = TEXTURE(\"texture/floor.jpg\")(floor)\n",
    "\twalls = TEXTURE(\"texture/wall.jpg\")(walls)\n",
    "\thome = STRUCT([floor, walls])\n",
    "\treturn home\n",
    "\n",
    "\n",
    "VIEW(ggpl_house())"
   ]
  },
  {
   "cell_type": "markdown",
   "metadata": {},
   "source": [
    "### Esempio esecuzione del designe iniziale"
   ]
  },
  {
   "cell_type": "markdown",
   "metadata": {},
   "source": [
    "<img src=\"es1.jpg\" width=\"700\">"
   ]
  },
  {
   "cell_type": "markdown",
   "metadata": {},
   "source": [
    "<img src=\"es2.jpg\" width=\"700\">"
   ]
  }
 ],
 "metadata": {
  "kernelspec": {
   "display_name": "Python 2",
   "language": "python",
   "name": "python2"
  },
  "language_info": {
   "codemirror_mode": {
    "name": "ipython",
    "version": 2
   },
   "file_extension": ".py",
   "mimetype": "text/x-python",
   "name": "python",
   "nbconvert_exporter": "python",
   "pygments_lexer": "ipython2",
   "version": "2.7.12"
  }
 },
 "nbformat": 4,
 "nbformat_minor": 1
}
