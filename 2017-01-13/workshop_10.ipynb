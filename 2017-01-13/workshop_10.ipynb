{
 "cells": [
  {
   "cell_type": "markdown",
   "metadata": {},
   "source": [
    "# Multistorey House Workshop 10"
   ]
  },
  {
   "cell_type": "markdown",
   "metadata": {},
   "source": [
    "### Esempio di casa"
   ]
  },
  {
   "cell_type": "markdown",
   "metadata": {},
   "source": [
    "<img src=\"floor.jpg\" width=\"600\">"
   ]
  },
  {
   "cell_type": "markdown",
   "metadata": {},
   "source": [
    "### Costruzione casa\n",
    "\n",
    "Per la creazione della struttura vengono utilizzati dei file svg creati con inkscape che vanno a identificare la posizione dei muri, delle scale, delle porte e delle finestre\n",
    "I file vengono successivamente convertiti in .line.\n",
    "Per la costruzione della casa vengono utilizzate funzioni di workshop antecedenti in gran parte modificati per adattarli al workshop corrente\n"
   ]
  },
  {
   "cell_type": "markdown",
   "metadata": {},
   "source": [
    "### Codice python del metodo parametrico multistorey_house"
   ]
  },
  {
   "cell_type": "code",
   "execution_count": null,
   "metadata": {
    "collapsed": true
   },
   "outputs": [],
   "source": [
    "def multistorey_house(storey):\n",
    "\t\"\"\"\n",
    "\tmultistorey_house prende in input il numero di piani della casa e restituisce l'HPC della casa generata\n",
    "\t@param storey: numero dei piani\n",
    "\t@return house: l'HPC della casa\n",
    "\t\"\"\"\n",
    "\tdef buildExternalWalls(heightWalls):\n",
    "\t\t\"\"\"\n",
    "\t\tbuildExternalWalls prende in input l'altezza di un piano della casa\n",
    "\t\t@param heightWalls: altezza piano\n",
    "\t\t\"\"\"\n",
    "\t\tdef buildDoors(heightDoors):\n",
    "\t\t\t\"\"\"\n",
    "\t\t\tbuildDoors prende in input l'altezza delle porte\n",
    "\t\t\t@param heightDoors: altezza porte\n",
    "\t\t\t\"\"\"\n",
    "\t\t\tdef buildWindows(heightWindows):\n",
    "\t\t\t\t\"\"\"\n",
    "\t\t\t\tbuildWindows prende in input l'altezza delle finestre\n",
    "\t\t\t\t@param heightWindows: altezza finestre\n",
    "\t\t\t\t\"\"\"\n",
    "\t\t\t\tdef buildRoof(pendenzaFalda):\n",
    "\t\t\t\t\t\"\"\"\n",
    "\t\t\t\t\tbuildRoof prende in input la pendenza delle falde del tetto\n",
    "\t\t\t\t\t@param pendenzaFalda: la pendenza in gradi delle falde del tetto\n",
    "\t\t\t\t\t\"\"\"\n",
    "\t\t\t\t\tfloors = []\n",
    "\t\t\t\t\tfloors.append(createFloor(\"lines/muri_esterni.lines\"))\n",
    "\n",
    "\t\t\t\t\twalls = []\n",
    "\t\t\t\t\twalls.append(createExternalWall(\"lines/muri_esterni.lines\",heightWalls))\n",
    "\t\t\t\t\twalls.append(createInternalWall(\"lines/muri_interni.lines\",heightWalls))\n",
    "\t\t\t\t\t#walls = STRUCT([externalWalls, internalWalls])\n",
    "\n",
    "\t\t\t\t\tholeDoors = []\n",
    "\t\t\t\t\tholeDoors.append(createHoleDoors(\"lines/porte_dett.lines\",heightDoors,walls))\n",
    "\n",
    "\t\t\t\t\tdoors = []\n",
    "\t\t\t\t\tdoors.append(createDoors(\"lines/porte_dett.lines\",heightDoors,walls))\n",
    "\n",
    "\t\t\t\t\tholeWindows = []\n",
    "\t\t\t\t\tholeWindows.append(createHoleWindows(\"lines/finestre_dett.lines\",heightWindows,heightWalls,walls))\n",
    "\n",
    "\t\t\t\t\twindows = []\n",
    "\t\t\t\t\twindows.append(createWindows(\"lines/finestre_dett.lines\",heightWindows,heightWalls,walls))\n",
    "\n",
    "\n",
    "\t\t\t\t\tfor i in range(storey-1):\n",
    "\t\t\t\t\t\tfloor = createFloor(\"lines/muri_esterni.lines\")\n",
    "\t\t\t\t\t\tfloors.append(T([3])([heightWalls*(i+1)])(floor))\n",
    "\n",
    "\t\t\t\t\t\texternalWall = createExternalWall(\"lines/muri_esterni.lines\",heightWalls)\n",
    "\t\t\t\t\t\tinternalWall = createInternalWall(\"lines/muri_interni.lines\",heightWalls)\n",
    "\t\t\t\t\t\tintextWall = STRUCT([internalWall,externalWall])\n",
    "\t\t\t\t\t\twalls.append(T([3])([heightWalls*(i+1)])(intextWall))\n",
    "\n",
    "\t\t\t\t\t\tholeDoorsPlane = createHoleDoors(\"lines/porte_dett2.lines\",heightDoors,walls)\n",
    "\t\t\t\t\t\tholeDoors.append(T([3])([heightWalls*(i+1)])(holeDoorsPlane))\n",
    "\n",
    "\t\t\t\t\t\tdoorsPlane = createDoors(\"lines/porte_dett2.lines\",heightDoors,walls)\n",
    "\t\t\t\t\t\tdoors.append(T([3])([heightWalls*(i+1)])(doorsPlane))\n",
    "\n",
    "\t\t\t\t\t\tholeWindowsPlane = createHoleWindows(\"lines/finestre_dett.lines\",heightWindows,heightWalls,walls)\n",
    "\t\t\t\t\t\tholeWindows.append(T([3])([heightWalls*(i+1)])(holeWindowsPlane))\n",
    "\n",
    "\t\t\t\t\t\twindowsPlane = createWindows(\"lines/finestre_dett.lines\",heightWindows,heightWalls,walls)\n",
    "\t\t\t\t\t\twindows.append(T([3])([heightWalls*(i+1)])(windowsPlane))\n",
    "\n",
    "\n",
    "\t\t\t\t\tfloors = STRUCT(floors)\n",
    "\t\t\t\t\twalls = STRUCT(walls)\n",
    "\t\t\t\t\tholeDoors = STRUCT(holeDoors)\n",
    "\t\t\t\t\twalls = DIFFERENCE([walls, holeDoors])\n",
    "\t\t\t\t\tdoors = STRUCT(doors)\n",
    "\t\t\t\t\tholeWindows = STRUCT(holeWindows)\n",
    "\t\t\t\t\twalls = DIFFERENCE([walls, holeWindows])\n",
    "\t\t\t\t\twalls = TEXTURE(\"texture/wall.jpg\")(walls)\n",
    "\t\t\t\t\twindows = STRUCT(windows)\n",
    "\n",
    "\t\t\t\t\tstairs = createStairs(\"lines/scala.lines\",heightWalls)\n",
    "\t\t\t\t\troof = createRoof(\"lines/muri_esterni.lines\",heightWalls*storey,pendenzaFalda)\n",
    "\n",
    "\t\t\t\t\thouse = STRUCT([floors,walls,doors,windows,stairs,roof])\n",
    "\t\t\t\t\treturn house\n",
    "\t\t\t\treturn buildRoof\n",
    "\t\t\treturn buildWindows\n",
    "\t\treturn buildDoors\n",
    "\treturn buildExternalWalls"
   ]
  },
  {
   "cell_type": "markdown",
   "metadata": {},
   "source": [
    "### Esempio 1    VIEW(multistorey_house(2)(4)(3)(2)(PI/4))"
   ]
  },
  {
   "cell_type": "markdown",
   "metadata": {},
   "source": [
    "<img src=\"es1.jpg\" width=\"700\">"
   ]
  },
  {
   "cell_type": "markdown",
   "metadata": {},
   "source": [
    "<img src=\"es1b.jpg\" width=\"700\">"
   ]
  },
  {
   "cell_type": "markdown",
   "metadata": {},
   "source": [
    "### Esempio 2    VIEW(multistorey_house(3)(5)(3)(2)(PI/6))"
   ]
  },
  {
   "cell_type": "markdown",
   "metadata": {},
   "source": [
    "<img src=\"es2.jpg\" width=\"600\">"
   ]
  }
 ],
 "metadata": {
  "kernelspec": {
   "display_name": "Python 2",
   "language": "python",
   "name": "python2"
  },
  "language_info": {
   "codemirror_mode": {
    "name": "ipython",
    "version": 2
   },
   "file_extension": ".py",
   "mimetype": "text/x-python",
   "name": "python",
   "nbconvert_exporter": "python",
   "pygments_lexer": "ipython2",
   "version": "2.7.12"
  }
 },
 "nbformat": 4,
 "nbformat_minor": 1
}
