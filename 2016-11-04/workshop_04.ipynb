{
 "cells": [
  {
   "cell_type": "markdown",
   "metadata": {},
   "source": [
    "# Hip Roof Builder"
   ]
  },
  {
   "cell_type": "markdown",
   "metadata": {},
   "source": [
    "## Esempio della tipologia di tetto che si possono creare"
   ]
  },
  {
   "cell_type": "markdown",
   "metadata": {},
   "source": [
    "<img src=\"hip_roof.jpg\"]>"
   ]
  },
  {
   "cell_type": "markdown",
   "metadata": {},
   "source": [
    "# Procedimento del metodo geometrico"
   ]
  },
  {
   "cell_type": "markdown",
   "metadata": {},
   "source": [
    "Una volta che la funzione riceve in input la struttura portante la funzione riesce a creare il tetto anche nel caso in cui la struttura portante presenta vertici interni\n",
    "### L'immagine seguente esemplifica la tipologia di struttura:"
   ]
  },
  {
   "cell_type": "markdown",
   "metadata": {},
   "source": [
    "<img src=\"structure.jpg\"]>"
   ]
  },
  {
   "cell_type": "markdown",
   "metadata": {},
   "source": [
    "La funzione prende in input un hpc della struttura portante (non più direttamente i vertici e le celle della struttura) e tramite la funzione UKPOL vengono estrapolati i vertici e le celle.\n",
    "\n",
    "I valori vengono arrotondati alla prima cifra decimale, sono successivamente rimossi vertici coincidenti e quindi corretti i valori delle celle rispetto ai nuovi valori dei vertici"
   ]
  },
  {
   "cell_type": "markdown",
   "metadata": {},
   "source": [
    "nel caso in cui si hanno vertici all'interno della struttura come discusso prima vengono sostituiti con i rispettivi vertici sopra di essi ovvero con un diverso valore di z ma identico di x e di y"
   ]
  },
  {
   "cell_type": "markdown",
   "metadata": {},
   "source": [
    "Infine viene creata la struttura tramite la funzione SKEL_1 e il tetto tramite i nuovi valori di vertici e celle appena trovati e utilizzando la funzione OFFSET"
   ]
  },
  {
   "cell_type": "code",
   "execution_count": 1,
   "metadata": {
    "collapsed": false
   },
   "outputs": [
    {
     "name": "stdout",
     "output_type": "stream",
     "text": [
      "Evaluating fenvs.py..\n",
      "...fenvs.py imported in 0.00581053474282 seconds\n"
     ]
    },
    {
     "data": {
      "text/plain": [
       "<pyplasm.xgepy.Hpc; proxy of <Swig Object of type 'std::shared_ptr< Hpc > *' at 0x000000000C7A7C30> >"
      ]
     },
     "execution_count": 1,
     "metadata": {},
     "output_type": "execute_result"
    }
   ],
   "source": [
    "from pyplasm import *\n",
    "import math\n",
    "\n",
    "def ggpl_hip_roof_builder(structure):\n",
    "\n",
    "\t\"\"\"\n",
    "\tggpl_hip_roof_builder crea un tetto a partire dalla struttura dello scheletro che lo sorregge\n",
    "\n",
    "\t@param structure: un hpc che indica la struttura su cui va inserito il tetto\n",
    "\t@return structureFinal: il tetto con la struttura iniziale\n",
    "\t\"\"\"\n",
    "\n",
    "\t# ricava i valori di vertici e celle da sistemare tramite UKPOL\n",
    "\n",
    "\tvalstruct = UKPOL(structure)\n",
    "\tverts = valstruct[0]\n",
    "\tcells = valstruct[1]\n",
    "\n",
    "\t# arrotonda i punti dei vertici\n",
    "\n",
    "\tfor i in range(len(verts)): #i parte da 0\n",
    "\t\tverts[i][0] = round(verts[i][0],1) #arrotonda per difetto sotto a .50 per eccesso da .50\n",
    "\t\tverts[i][1] = round(verts[i][1],1)\n",
    "\t\tverts[i][2] = round(verts[i][2],1)\n",
    "\n",
    "\t# vertsDict come chiave ha il vertice convertito in stringa e come valore ha una lista di due elementi il primo e' un valore progressivo\n",
    "\t# mentre il secondo e' una lista di punti presenti piu volte nella lista verts\n",
    "\t# in questo modo creo una nuova lista di vertici eliminando i duplicati\n",
    "\n",
    "\tvertsDict = {}\n",
    "\tj=1\n",
    "\n",
    "\t# vertsNew sono i nuovi vertici con valori arrotondati e in cui non sono presenti duplicati\n",
    "\n",
    "\tvertsNew = []\n",
    "\tfor i in range(len(verts)):\n",
    "\t\tvertstringKey = str(verts[i][0])+str(verts[i][1])+str(verts[i][2])\n",
    "\t\tif (vertsDict.has_key(vertstringKey)):\n",
    "\t\t\tvertsDict[vertstringKey][1].append(i+1)\n",
    "\t\telse:\n",
    "\t\t\tvertsDict[vertstringKey] = [j,[i+1]]\n",
    "\t\t\tvertsNew.append(verts[i])\n",
    "\t\t\tj = j+1\n",
    "\n",
    "\t# corregge le celle prese da UKPOL adattandole alla nuova lista dei vertici\n",
    "\t# cellsNew sono le nuove celle corrette in base ai nuovi valori dei vertici\n",
    "\t# cellNew e' una lista di supporto utilizzata per creare cellsNew\n",
    "\n",
    "\tcellsNew = []\n",
    "\tcellNew = []\n",
    "\tfor i in range(len(cells)):\n",
    "\t\tfor e in range(len(cells[i])):\n",
    "\t\t\tfor j in range(len(vertsDict.values())):\n",
    "\t\t\t\tif cells[i][e] in vertsDict.values()[j][1]:\n",
    "\t\t\t\t\tcellNew.append(vertsDict.values()[j][0])\n",
    "\t\tcellsNew.append(cellNew)\n",
    "\t\tcellNew = []\n",
    "\n",
    "\t# prende i vertici che non si trovano nel piano z=0 e li inserisce nella lista vertsTop\n",
    "\n",
    "\tvertsTop = []\n",
    "\tfor i in range(len(vertsNew)):\n",
    "\t\tif vertsNew[i][2] > 0:\n",
    "\t\t\tvertsTop.append(vertsNew[i])\n",
    "\n",
    "\t# crea la lista vertsRoof sostituendo i valori interni alla struttura con i valori nel piano z>0 per permettere la creazione delle facciate del tetto\n",
    "\t# vertsRoof e' una lista con solo i valori necessari per la creazione delle facciate\n",
    "\n",
    "\tvertsRoof = []\n",
    "\tfor i in range(len(vertsNew)):\n",
    "\t\tinsert = 1\n",
    "\t\tfor j in range(len(vertsTop)):\n",
    "\t\t\tif (vertsNew[i][0] == vertsTop[j][0] and vertsNew[i][1] == vertsTop[j][1] and vertsNew[i][2] == 0):\n",
    "\t\t\t\tinsert = 0\n",
    "\t\t\t\tvertsRoof.append(vertsTop[j])\n",
    "\t\tif insert != 0:\n",
    "\t\t\tvertsRoof.append(vertsNew[i])\n",
    "\t\t\t\n",
    "\troof = OFFSET([0.1, 0.1, 0.1])((MKPOL([vertsRoof,cellsNew,None])))\n",
    "\troof = STRUCT([T(3)(0.1),roof])\n",
    "\tstructureFinal = []\n",
    "\tskel = OFFSET([0.1, 0.1, 0.1])(SKEL_1(structure))\n",
    "\tstructureFinal.append(COLOR(RED)(roof))\n",
    "\tstructureFinal.append(skel)\n",
    "\treturn STRUCT(structureFinal)\n",
    "\n",
    "structure = MKPOL([[[0,0,0],[5,0,0],[5,5,0],[15,5,0],[15,10,0],[0,10,0],[2.5,2,4],[2.5,2,0],[2.5,7.5,4],[2.5,7.5,0],[13,7.5,4],[13,7.5,0]],[[1,2,7,8],[1,8,7,9,10,6],[3,10,9,11,12,4],[6,10,9,11,12,5],[5,4,12,11],[2,8,7,9,10,3]],None])\n",
    "#structure = MKPOL([[[0,0,0],[0,10,0],[2.5,5,0],[2.5,5,5],[15,0,0],[15,10,0],[12.5,5,0],[12.5,5,5]],[[1,2,4,3],[8,5,6,7],[1,3,4,8,7,5],[2,3,4,8,7,6]],None])\n",
    "VIEW(ggpl_hip_roof_builder(structure))"
   ]
  },
  {
   "cell_type": "markdown",
   "metadata": {},
   "source": [
    "### Esempio di esecuzione 1"
   ]
  },
  {
   "cell_type": "markdown",
   "metadata": {},
   "source": [
    "<img src=\"es1a.jpg\"] style=\"float:left\" width=\"500\"><img src=\"es1b.jpg\" width=\"500\">"
   ]
  },
  {
   "cell_type": "markdown",
   "metadata": {},
   "source": [
    "### Esempio di esecuzione 2"
   ]
  },
  {
   "cell_type": "markdown",
   "metadata": {},
   "source": [
    "<img src=\"es2a.jpg\"] style=\"float:left\" width=\"500\"><img src=\"es2b.jpg\" width=\"500\">"
   ]
  }
 ],
 "metadata": {
  "kernelspec": {
   "display_name": "Python 2",
   "language": "python",
   "name": "python2"
  },
  "language_info": {
   "codemirror_mode": {
    "name": "ipython",
    "version": 2
   },
   "file_extension": ".py",
   "mimetype": "text/x-python",
   "name": "python",
   "nbconvert_exporter": "python",
   "pygments_lexer": "ipython2",
   "version": "2.7.12"
  }
 },
 "nbformat": 4,
 "nbformat_minor": 1
}
