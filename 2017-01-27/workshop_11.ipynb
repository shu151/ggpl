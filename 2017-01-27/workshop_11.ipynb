{
 "cells": [
  {
   "cell_type": "markdown",
   "metadata": {},
   "source": [
    "# Model of suburban neighborhood Workshop 11"
   ]
  },
  {
   "cell_type": "markdown",
   "metadata": {},
   "source": [
    "### Esempio del modello"
   ]
  },
  {
   "cell_type": "markdown",
   "metadata": {},
   "source": [
    "<img src=\"pianta.jpg\" width=\"600\">"
   ]
  },
  {
   "cell_type": "markdown",
   "metadata": {},
   "source": [
    "### Costruzione suburban neighborhood\n",
    "\n",
    "Per la creazione della struttura viene inizialmente creata la base su cui poggiare il modellino.\n",
    "Successivamente vengono create le strate secondo il modello d'esempio, create e posizionate le case correttamente e vengono creati gli alberi e posizionati sul modellino\n",
    "\n",
    "Le case sono create tramite il workshop 10\n",
    "Le strade vengono create tramite la funzione BEZIERCURVE che permette di tracciare linee curve in base a specifici punti\n",
    "\n",
    "di seguito mostro parte del codice per la crezione del modello"
   ]
  },
  {
   "cell_type": "markdown",
   "metadata": {},
   "source": [
    "### Codice python del metodo suburban_neighborhood"
   ]
  },
  {
   "cell_type": "code",
   "execution_count": 1,
   "metadata": {
    "collapsed": true
   },
   "outputs": [],
   "source": [
    "def suburban_neighborhood():\n",
    "\t\"\"\"\n",
    "\tsuburban_neighborhood ritorna l'HPC di un piccolo modellino di un quartiere di periferia\n",
    "\t@return struttura: l'HPC del quartiere\n",
    "\t\"\"\"\n",
    "\n",
    "\n",
    "\tpiano = CUBOID([540,180,3])\n",
    "\tpiano = MATERIAL([0,0.2,0,1,  0,0.2,0,1,  0,0.1,0,1, 0,0,0,1, 0])(piano)\n",
    "\n",
    "\tstreets = []\n",
    "\tstreets = street1(streets)\n",
    "\tstreets = street2(streets)\n",
    "\n",
    "\tstreets = street3(streets)\n",
    "\tstreets = street4(streets)\n",
    "\n",
    "\tstreets = STRUCT(streets)\n",
    "\n",
    "\thouse1 = insertHouse(265,10,3)\n",
    "\thouse2 = insertHouse(310,10,3)\n",
    "\thouse3 = insertHouse(355,10,3)\n",
    "\thouse4 = insertHouse(400,10,3)\n",
    "\n",
    "\thouse5 = insertHouse(275,117,3)\n",
    "\thouse6 = insertHouse(325,93,3)\n",
    "\thouse7 = insertHouse(357,85,3)\n",
    "\thouse8 = insertHouse(397,84,3)\n",
    "\n",
    "\thouse9 = insertHouse(225.5,52,3)\n",
    "\n",
    "\thouses = STRUCT([house1,house2,house3,house4,house5,house6,house7,house8,house9])\n",
    "\n",
    "\ttrees = insertTrees()\n",
    "\n",
    "\tstreets = SOLIDIFY(streets)\n",
    "\tstreets = T([3])([3])(streets)\n",
    "\tstreets = MATERIAL([0.15,0.1,0.1,0.2, 0,0,0,1, 0,0,0,1, 0,0,0,1, 10])(streets)\n",
    "\n",
    "\tVIEW(STRUCT([streets,piano,houses,trees]))"
   ]
  },
  {
   "cell_type": "markdown",
   "metadata": {},
   "source": [
    "### Codice python di esempio di come vengono create le strade"
   ]
  },
  {
   "cell_type": "code",
   "execution_count": null,
   "metadata": {
    "collapsed": true
   },
   "outputs": [],
   "source": [
    "def street2(streets):\n",
    "\n",
    "\tstreet = MAP(BEZIERCURVE([[0,106],[40,120],[80,112]]))(INTERVALS(1)(32))\n",
    "\tstreet2 = MAP(BEZIERCURVE([[0,109],[40,123],[80,115]]))(INTERVALS(1)(32))\n",
    "\tstreet3 = MAP(BEZIERCURVE([[0,106],[0,109]]))(INTERVALS(1)(32))\n",
    "\tstreets.append(street)\n",
    "\tstreets.append(street2)\n",
    "\tstreets.append(street3)\n",
    "\n",
    "\tstreet = MAP(BEZIERCURVE([[80,112],[160,115],[223,100]]))(INTERVALS(1)(32))\n",
    "\tstreet2 = MAP(BEZIERCURVE([[80,115],[160,118],[223,103]]))(INTERVALS(1)(32))\n",
    "\tstreets.append(street)\n",
    "\tstreets.append(street2)\n",
    "\n",
    "\tstreet = MAP(BEZIERCURVE([[223,103],[226,103]]))(INTERVALS(1)(32))\n",
    "\tstreets.append(street)\n",
    "\n",
    "\treturn streets"
   ]
  },
  {
   "cell_type": "markdown",
   "metadata": {},
   "source": [
    "### Codice python di esempio per la creazione dell'albero"
   ]
  },
  {
   "cell_type": "code",
   "execution_count": null,
   "metadata": {
    "collapsed": true
   },
   "outputs": [],
   "source": [
    "def createTree():\n",
    "\ttree = CYLINDER([0.4,5.0])(32)\n",
    "\ttree = MATERIAL([0.2,0.09,0,0.4,  0,0,0,1,  0,0,0,.1, 0,0,0,1, 1])(tree)\n",
    "\ttreeup = SPHERE(2)([100,100])\n",
    "\ttreeup = T([3])([6])(treeup)\n",
    "\ttreeup2 = T([2,3])([0.7,6])(SPHERE(2)([100,100]))\n",
    "\ttreeup3 = T([2,3])([-0.7,6])(SPHERE(2)([100,100]))\n",
    "\ttreeup4 = T([1,3])([0.7,6])(SPHERE(2)([100,100]))\n",
    "\ttreeup5 = T([1,3])([-0.7,6])(SPHERE(2)([100,100]))\n",
    "\ttreeup6 = T([3])([6.5])(SPHERE(2)([100,100]))\n",
    "\tleaf = STRUCT([treeup,treeup2,treeup3,treeup4,treeup5,treeup6])\n",
    "\tleaf = MATERIAL([0,0.01,0,1,  0,0.01,0,1,  0,0.1,0,1, 0,0,0,1, 0])(leaf)\n",
    "\tfinal = STRUCT([tree,leaf])\n",
    "\treturn final"
   ]
  },
  {
   "cell_type": "markdown",
   "metadata": {},
   "source": [
    "### Esempio di esecuzione del modello"
   ]
  },
  {
   "cell_type": "markdown",
   "metadata": {},
   "source": [
    "<img src=\"es1_11.jpg\" width=\"700\">"
   ]
  },
  {
   "cell_type": "markdown",
   "metadata": {},
   "source": [
    "<img src=\"es2_11.jpg\" width=\"700\">"
   ]
  },
  {
   "cell_type": "markdown",
   "metadata": {},
   "source": [
    "<img src=\"es3_11.jpg\" width=\"700\">"
   ]
  },
  {
   "cell_type": "markdown",
   "metadata": {},
   "source": [
    "### Aggiunta una nuova creazione randomica dell'insieme di alberi:"
   ]
  },
  {
   "cell_type": "code",
   "execution_count": null,
   "metadata": {
    "collapsed": true
   },
   "outputs": [],
   "source": [
    "def insertTrees2(numberTrees,startX,endX,startY,):\n",
    "\t\"\"\"\n",
    "\tinsertTrees ritorna l'HPC di un insieme di alberi\n",
    "\t@param numberTrees: numero di alberi che si vuole inserire\n",
    "\t@param startX: inizio del posizionamento lungo l'asse x\n",
    "\t@param endX: fine del posizionamento lungo l'asse x\n",
    "\t@param startY: inizio del posizionamento lungo l'asse y\n",
    "\t@param endY: fine del posizionamento lungo l'asse y\n",
    "\t@return trees: l'HPC degli alberi\n",
    "\t\"\"\"\n",
    "\ttrees = []\n",
    "\n",
    "\tfor i in range(numberTrees):\n",
    "\t\tdx = random.randint(startX,endX)\n",
    "\t\tdy = random.randint(startY,endY)\n",
    "\t\ttree = insertTree(dx,dy,3)\n",
    "\t\ttrees.append(tree)\n",
    "\n",
    "\ttrees = STRUCT(trees)\n",
    "\treturn trees"
   ]
  },
  {
   "cell_type": "markdown",
   "metadata": {},
   "source": [
    "### Esempio de creazione degli alberi:\n",
    "\n",
    "\ttrees1 = insertTrees2(60,5,54,20,105)\n",
    "\ttrees2 = insertTrees2(60,56,108,35,110)\n",
    "\ttrees3 = insertTrees2(40,110,162,45,110)\n",
    "\ttrees4 = insertTrees2(20,164,216,68,100)\n",
    "\ttrees = STRUCT([trees1,trees2,trees3,trees4])"
   ]
  },
  {
   "cell_type": "markdown",
   "metadata": {},
   "source": [
    "<img src=\"esTrees.jpg\" width=\"700\">"
   ]
  }
 ],
 "metadata": {
  "kernelspec": {
   "display_name": "Python 2",
   "language": "python",
   "name": "python2"
  },
  "language_info": {
   "codemirror_mode": {
    "name": "ipython",
    "version": 2
   },
   "file_extension": ".py",
   "mimetype": "text/x-python",
   "name": "python",
   "nbconvert_exporter": "python",
   "pygments_lexer": "ipython2",
   "version": "2.7.12"
  }
 },
 "nbformat": 4,
 "nbformat_minor": 1
}
