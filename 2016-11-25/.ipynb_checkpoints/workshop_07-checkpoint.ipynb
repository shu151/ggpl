{
 "cells": [
  {
   "cell_type": "markdown",
   "metadata": {},
   "source": [
    "# Doors and Windows Workshop 07"
   ]
  },
  {
   "cell_type": "markdown",
   "metadata": {},
   "source": [
    "### Esempi di finestre e porte"
   ]
  },
  {
   "cell_type": "markdown",
   "metadata": {},
   "source": [
    "<img src=\"door.jpg\" style=\"float:left\" width=\"400\"><img src=\"window.jpg\" width=\"400\">"
   ]
  },
  {
   "cell_type": "markdown",
   "metadata": {},
   "source": [
    "## Metodo Geometrico:"
   ]
  },
  {
   "cell_type": "markdown",
   "metadata": {},
   "source": [
    "Il metodo geometrico per la rappresentazione della porta e della finestra prevede l'utilizzo di una enumerative representation.\n",
    "Tale rappresentazione prevede l'utilizzo di una tripla di array (i tre assi cartesiani) che contengono le distanze ordinate tra tagli adiacenti e l'utilizzo di un un array di booleani secondo il seguente schema\n",
    "    \n",
    "    <<Xarray[i1],Yarray[i2],Zarray[i3]>, BoolArray[i1,i2,i3]>\n",
    "    \n",
    "inoltre il modello HPC creato viene parametrizzato sui tre assi secondo tre valori dx,dy,dz (ovvero è contenuto in un box di dimensioni date)"
   ]
  },
  {
   "cell_type": "code",
   "execution_count": 1,
   "metadata": {
    "collapsed": false
   },
   "outputs": [
    {
     "name": "stdout",
     "output_type": "stream",
     "text": [
      "Evaluating fenvs.py..\n",
      "...fenvs.py imported in 0.00585887467696 seconds\n",
      "Child 3\n",
      "Child 3\n"
     ]
    }
   ],
   "source": [
    "from pyplasm import *\n",
    "\n",
    "def ggpl_doors_and_windows():\n",
    "\n",
    "\tX = [.1,.2,0.05,.2,.1,.1,.2,0.05,.2,.1]\n",
    "\tY = [.1,.3,.05,.35,.05,0.3,0.1]\n",
    "\tZ = [0.0,3.0,8.0,10.0]\n",
    "\toccupancy = [[True, True, True, True, True, True, True],\n",
    "\t\t\t  [True, False, True, False, True, False, True],\n",
    "\t\t\t  [True, True, True, True, True, True, True],\n",
    "\t\t\t  [True, False, True, False, True, False, True],\n",
    "\t\t\t  [True, True, True, True, True, True, True],\n",
    "\t\t\t  [True, True, True, True, True, True, True],\n",
    "\t\t\t  [True, False, True, False, True, False, True],\n",
    "\t\t\t  [True, True, True, True, True, True, True],\n",
    "\t\t\t  [True, False, True, False, True, False, True],\n",
    "\t\t\t  [True, True, True, True, True, True, True]]\n",
    "\n",
    "\n",
    "\tXDoor = [.1,.2,0.05,.2,.1,.1,.2,0.05,.2,.1]\n",
    "\tYDoor = [0.7,.1,.3,.05,.35,.05,0.3,0.1]\n",
    "\tZDoor = [0.0,3.0,8.0,10.0]\n",
    "\toccupancyDoor = [[True, True, True, True, True, True, True, True],\n",
    "\t\t\t  [True, True, False, True, False, True, False, True],\n",
    "\t\t\t  [True, True, True, True, True, True, True, True],\n",
    "\t\t\t  [True, True, False, True, False, True, False, True],\n",
    "\t\t\t  [True, True, True, True, True, True, True, True],\n",
    "\t\t\t  [True, True, True, True, True, True, True, True],\n",
    "\t\t\t  [True, True, False, True, False, True, False, True],\n",
    "\t\t\t  [True, True, True, True, True, True, True, True],\n",
    "\t\t\t  [True, True, False, True, False, True, False, True],\n",
    "\t\t\t  [True, True, True, True, True, True, True, True]]\n",
    "\n",
    "\tdef createDoor(X,Y,Z,occupancy,dx,dy,dz):\n",
    "\t\t\"\"\"\n",
    "\t\tcreateDoor genera un modello HPC di una porta\n",
    "\t\t@param X: lista di Float che indicano gli intervalli di celle da analizzare (asse x)\n",
    "\t\t@param Y: lista di Float che indicano gli intervalli di celle da analizzare (asse y)\n",
    "\t\t@param Z: nulla, da implementare\n",
    "\t\t@param occupancy: True se la cella occupancy[X[i],Y[j]] e' piena, False altrimenti (vuota)\n",
    "\t\t@param dx: valore asse x del box che deve contenere la porta\n",
    "\t\t@param dy: valore asse y del box che deve contenere la porta\n",
    "\t\t@param dz: valore asse z del box che deve contenere la porta\n",
    "\t\t@return result: modello HPC della porta\n",
    "\t\t\"\"\"\n",
    "\n",
    "\t\tsumX= sum(X) #utilizzati per inserirlo all'interno del box dx dy dz (per parametrizzarlo)\n",
    "\t\tsumY= sum(Y)\n",
    "\t\tdoor = []\n",
    "\t\tsumValuesX = 0\n",
    "\t\tfor i in range(len(X)):\n",
    "\t\t\tyQuote = []\n",
    "\t\t\tfor y in range(len(Y)):\n",
    "\t\t\t\tif(occupancy[i][y] == True):\n",
    "\t\t\t\t\tyQuote.append(Y[y]/sumY*dz)\n",
    "\t\t\t\telse:\n",
    "\t\t\t\t\tyQuote.append(-Y[y]/sumY*dz)\n",
    "\t\t\tdoor.append(PROD([QUOTE([-sumValuesX/sumX*dx, X[i]/sumX*dx]), QUOTE(yQuote)]))\n",
    "\t\t\tsumValuesX = sumValuesX + X[i]\n",
    "\t\tresult = STRUCT(door)\n",
    "\t\tresult = PROD([result, Q(dy)])\n",
    "\t\tresult = MAP([S1,S3,S2])(result)\n",
    "\t\tknob = SPHERE(dz/70.0)([100,100])\n",
    "\t\tknob = COLOR(Color4f([217/255., 138/255., 95/255., 1]))(knob)\n",
    "\t\tresult = COLOR(Color4f([217/255., 138/255., 95/255., 1]))(result)\n",
    "\t\tresult = STRUCT([result,T([2])(dy+dz/70.0),T([1])(dx/2-dx/2/20),T([3])(dz/2),knob])\n",
    "\t\treturn result\n",
    "\n",
    "\n",
    "\tdef createWindow(X,Y,Z,occupancy,dx,dy,dz):\n",
    "\t\t\"\"\"\n",
    "\t\tcreateWindow genera un modello HPC di una finestra\n",
    "\t\t@param X: lista di Float che indicano gli intervalli di celle da analizzare (asse x)\n",
    "\t\t@param Y: lista di Float che indicano gli intervalli di celle da analizzare (asse y)\n",
    "\t\t@param Z: nulla, da implementare\n",
    "\t\t@param occupancy: True se la cella occupancy[X[i],Y[j]] e' piena, False altrimenti (vuota)\n",
    "\t\t@param dx: valore asse x del box che deve contenere la finestra\n",
    "\t\t@param dy: valore asse y del box che deve contenere la finestra\n",
    "\t\t@param dz: valore asse z del box che deve contenere la finestra\n",
    "\t\t@return result: modello HPC della finestra\n",
    "\t\t\"\"\"\n",
    "\n",
    "\t\tsumX= sum(X)\n",
    "\t\tsumY= sum(Y)\n",
    "\t\twindow = []\n",
    "\t\tsumValuesX = 0\n",
    "\t\tfor i in range(len(X)):\n",
    "\t\t\tyQuote = []\n",
    "\t\t\tfor y in range(len(Y)):\n",
    "\t\t\t\tif(occupancy[i][y] == True):\n",
    "\t\t\t\t\tyQuote.append(Y[y]/sumY*dz)\n",
    "\t\t\t\telse:\n",
    "\t\t\t\t\tyQuote.append(-Y[y]/sumY*dz)\n",
    "\t\t\twindow.append(PROD([QUOTE([-sumValuesX/sumX*dx, X[i]/sumX*dx]), QUOTE(yQuote)]))\n",
    "\t\t\tsumValuesX = sumValuesX + X[i]\n",
    "\t\tresult = STRUCT(window)\n",
    "\t\tresult = PROD([result, Q(dy)])\n",
    "\t\tresult = MAP([S1,S3,S2])(result)\n",
    "\t\tknob = SPHERE(dz/70.0)([100,100])\n",
    "\t\tknob = COLOR(Color4f([217/255., 138/255., 95/255., 1]))(knob)\n",
    "\t\tresult = COLOR(Color4f([217/255., 138/255., 95/255., 1]))(result)\n",
    "\t\tresult = STRUCT([result,T([2])(dy+dz/70.0),T([1])(dx/2-dx/2/20),T([3])(dz/2),knob])\n",
    "\t\treturn result\n",
    "\n",
    "\n",
    "\tVIEW(createWindow(X,Y,Z,occupancy,2.,0.15,2.))\n",
    "\n",
    "\tVIEW(createDoor(XDoor,YDoor,ZDoor,occupancyDoor,2.,0.15,3.))\n",
    "\n",
    "ggpl_doors_and_windows()"
   ]
  },
  {
   "cell_type": "markdown",
   "metadata": {},
   "source": [
    "## Esempio Finestra:"
   ]
  },
  {
   "cell_type": "markdown",
   "metadata": {},
   "source": [
    "<img src=\"es1.jpg\" width=\"500\">"
   ]
  },
  {
   "cell_type": "markdown",
   "metadata": {},
   "source": [
    "## Esempio Porta:"
   ]
  },
  {
   "cell_type": "markdown",
   "metadata": {},
   "source": [
    "<img src=\"es2.jpg\" width=\"500\">"
   ]
  },
  {
   "cell_type": "code",
   "execution_count": null,
   "metadata": {
    "collapsed": true
   },
   "outputs": [],
   "source": []
  }
 ],
 "metadata": {
  "kernelspec": {
   "display_name": "Python 2",
   "language": "python",
   "name": "python2"
  },
  "language_info": {
   "codemirror_mode": {
    "name": "ipython",
    "version": 2
   },
   "file_extension": ".py",
   "mimetype": "text/x-python",
   "name": "python",
   "nbconvert_exporter": "python",
   "pygments_lexer": "ipython2",
   "version": "2.7.12"
  }
 },
 "nbformat": 4,
 "nbformat_minor": 1
}
